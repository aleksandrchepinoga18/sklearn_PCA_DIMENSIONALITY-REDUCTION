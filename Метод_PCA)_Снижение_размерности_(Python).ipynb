{
  "nbformat": 4,
  "nbformat_minor": 0,
  "metadata": {
    "colab": {
      "provenance": []
    },
    "kernelspec": {
      "name": "python3",
      "display_name": "Python 3"
    },
    "language_info": {
      "name": "python"
    }
  },
  "cells": [
    {
      "cell_type": "code",
      "execution_count": 1,
      "metadata": {
        "id": "tvfs1aSWgHkL"
      },
      "outputs": [],
      "source": [
        "import pandas as pd"
      ]
    },
    {
      "cell_type": "code",
      "source": [
        "df = pd.read_csv('https://dc-edu.itmo.ru/assets/courseware/v1/6c89dd85d23926d43494d0e4dd968840/asset-v1:ITMO+DS+2024+type@asset+block/94_16.csv', header = None)\n",
        "df.describe()"
      ],
      "metadata": {
        "colab": {
          "base_uri": "https://localhost:8080/",
          "height": 300
        },
        "id": "DFoseO27gTxp",
        "outputId": "e8841581-c0ba-4d0f-94e1-67cd888b72d7"
      },
      "execution_count": 2,
      "outputs": [
        {
          "output_type": "execute_result",
          "data": {
            "text/plain": [
              "               0          1          2          3          4          5  \\\n",
              "count  60.000000  60.000000  60.000000  60.000000  60.000000  60.000000   \n",
              "mean   13.648938  -7.175716  -5.609337  -6.107276  -2.965088  -7.997695   \n",
              "std     5.410092   7.810819  17.654396   8.925655   4.599278  14.330792   \n",
              "min     6.914555 -17.334996 -26.707794 -20.397205 -12.939674 -26.324817   \n",
              "25%    10.021664 -13.027605 -22.980626 -12.779413  -5.742113 -18.292393   \n",
              "50%    11.333764  -9.721820  -6.977941  -6.146143  -1.451712 -11.222941   \n",
              "75%    15.523334  -4.423073  11.708101   0.097262   0.257695   0.626118   \n",
              "max    25.095918   7.374109  15.992131   9.412555   3.928127  16.158754   \n",
              "\n",
              "               6          7          8          9  \n",
              "count  60.000000  60.000000  60.000000  60.000000  \n",
              "mean   -8.725442  -3.060533   0.912637   3.524539  \n",
              "std     6.859131  19.763887  19.750764   9.393779  \n",
              "min   -21.548309 -27.390035 -26.237301  -7.650646  \n",
              "25%   -15.139137 -21.486845 -16.531338  -2.343354  \n",
              "50%    -9.507880  -5.578858   2.247679  -0.145523  \n",
              "75%    -4.138139  13.180596  19.074481   7.649601  \n",
              "max     3.907143  25.980566  25.302010  22.819532  "
            ],
            "text/html": [
              "\n",
              "  <div id=\"df-156d9fdf-ce2a-49e0-b06a-35aa02ec8872\" class=\"colab-df-container\">\n",
              "    <div>\n",
              "<style scoped>\n",
              "    .dataframe tbody tr th:only-of-type {\n",
              "        vertical-align: middle;\n",
              "    }\n",
              "\n",
              "    .dataframe tbody tr th {\n",
              "        vertical-align: top;\n",
              "    }\n",
              "\n",
              "    .dataframe thead th {\n",
              "        text-align: right;\n",
              "    }\n",
              "</style>\n",
              "<table border=\"1\" class=\"dataframe\">\n",
              "  <thead>\n",
              "    <tr style=\"text-align: right;\">\n",
              "      <th></th>\n",
              "      <th>0</th>\n",
              "      <th>1</th>\n",
              "      <th>2</th>\n",
              "      <th>3</th>\n",
              "      <th>4</th>\n",
              "      <th>5</th>\n",
              "      <th>6</th>\n",
              "      <th>7</th>\n",
              "      <th>8</th>\n",
              "      <th>9</th>\n",
              "    </tr>\n",
              "  </thead>\n",
              "  <tbody>\n",
              "    <tr>\n",
              "      <th>count</th>\n",
              "      <td>60.000000</td>\n",
              "      <td>60.000000</td>\n",
              "      <td>60.000000</td>\n",
              "      <td>60.000000</td>\n",
              "      <td>60.000000</td>\n",
              "      <td>60.000000</td>\n",
              "      <td>60.000000</td>\n",
              "      <td>60.000000</td>\n",
              "      <td>60.000000</td>\n",
              "      <td>60.000000</td>\n",
              "    </tr>\n",
              "    <tr>\n",
              "      <th>mean</th>\n",
              "      <td>13.648938</td>\n",
              "      <td>-7.175716</td>\n",
              "      <td>-5.609337</td>\n",
              "      <td>-6.107276</td>\n",
              "      <td>-2.965088</td>\n",
              "      <td>-7.997695</td>\n",
              "      <td>-8.725442</td>\n",
              "      <td>-3.060533</td>\n",
              "      <td>0.912637</td>\n",
              "      <td>3.524539</td>\n",
              "    </tr>\n",
              "    <tr>\n",
              "      <th>std</th>\n",
              "      <td>5.410092</td>\n",
              "      <td>7.810819</td>\n",
              "      <td>17.654396</td>\n",
              "      <td>8.925655</td>\n",
              "      <td>4.599278</td>\n",
              "      <td>14.330792</td>\n",
              "      <td>6.859131</td>\n",
              "      <td>19.763887</td>\n",
              "      <td>19.750764</td>\n",
              "      <td>9.393779</td>\n",
              "    </tr>\n",
              "    <tr>\n",
              "      <th>min</th>\n",
              "      <td>6.914555</td>\n",
              "      <td>-17.334996</td>\n",
              "      <td>-26.707794</td>\n",
              "      <td>-20.397205</td>\n",
              "      <td>-12.939674</td>\n",
              "      <td>-26.324817</td>\n",
              "      <td>-21.548309</td>\n",
              "      <td>-27.390035</td>\n",
              "      <td>-26.237301</td>\n",
              "      <td>-7.650646</td>\n",
              "    </tr>\n",
              "    <tr>\n",
              "      <th>25%</th>\n",
              "      <td>10.021664</td>\n",
              "      <td>-13.027605</td>\n",
              "      <td>-22.980626</td>\n",
              "      <td>-12.779413</td>\n",
              "      <td>-5.742113</td>\n",
              "      <td>-18.292393</td>\n",
              "      <td>-15.139137</td>\n",
              "      <td>-21.486845</td>\n",
              "      <td>-16.531338</td>\n",
              "      <td>-2.343354</td>\n",
              "    </tr>\n",
              "    <tr>\n",
              "      <th>50%</th>\n",
              "      <td>11.333764</td>\n",
              "      <td>-9.721820</td>\n",
              "      <td>-6.977941</td>\n",
              "      <td>-6.146143</td>\n",
              "      <td>-1.451712</td>\n",
              "      <td>-11.222941</td>\n",
              "      <td>-9.507880</td>\n",
              "      <td>-5.578858</td>\n",
              "      <td>2.247679</td>\n",
              "      <td>-0.145523</td>\n",
              "    </tr>\n",
              "    <tr>\n",
              "      <th>75%</th>\n",
              "      <td>15.523334</td>\n",
              "      <td>-4.423073</td>\n",
              "      <td>11.708101</td>\n",
              "      <td>0.097262</td>\n",
              "      <td>0.257695</td>\n",
              "      <td>0.626118</td>\n",
              "      <td>-4.138139</td>\n",
              "      <td>13.180596</td>\n",
              "      <td>19.074481</td>\n",
              "      <td>7.649601</td>\n",
              "    </tr>\n",
              "    <tr>\n",
              "      <th>max</th>\n",
              "      <td>25.095918</td>\n",
              "      <td>7.374109</td>\n",
              "      <td>15.992131</td>\n",
              "      <td>9.412555</td>\n",
              "      <td>3.928127</td>\n",
              "      <td>16.158754</td>\n",
              "      <td>3.907143</td>\n",
              "      <td>25.980566</td>\n",
              "      <td>25.302010</td>\n",
              "      <td>22.819532</td>\n",
              "    </tr>\n",
              "  </tbody>\n",
              "</table>\n",
              "</div>\n",
              "    <div class=\"colab-df-buttons\">\n",
              "\n",
              "  <div class=\"colab-df-container\">\n",
              "    <button class=\"colab-df-convert\" onclick=\"convertToInteractive('df-156d9fdf-ce2a-49e0-b06a-35aa02ec8872')\"\n",
              "            title=\"Convert this dataframe to an interactive table.\"\n",
              "            style=\"display:none;\">\n",
              "\n",
              "  <svg xmlns=\"http://www.w3.org/2000/svg\" height=\"24px\" viewBox=\"0 -960 960 960\">\n",
              "    <path d=\"M120-120v-720h720v720H120Zm60-500h600v-160H180v160Zm220 220h160v-160H400v160Zm0 220h160v-160H400v160ZM180-400h160v-160H180v160Zm440 0h160v-160H620v160ZM180-180h160v-160H180v160Zm440 0h160v-160H620v160Z\"/>\n",
              "  </svg>\n",
              "    </button>\n",
              "\n",
              "  <style>\n",
              "    .colab-df-container {\n",
              "      display:flex;\n",
              "      gap: 12px;\n",
              "    }\n",
              "\n",
              "    .colab-df-convert {\n",
              "      background-color: #E8F0FE;\n",
              "      border: none;\n",
              "      border-radius: 50%;\n",
              "      cursor: pointer;\n",
              "      display: none;\n",
              "      fill: #1967D2;\n",
              "      height: 32px;\n",
              "      padding: 0 0 0 0;\n",
              "      width: 32px;\n",
              "    }\n",
              "\n",
              "    .colab-df-convert:hover {\n",
              "      background-color: #E2EBFA;\n",
              "      box-shadow: 0px 1px 2px rgba(60, 64, 67, 0.3), 0px 1px 3px 1px rgba(60, 64, 67, 0.15);\n",
              "      fill: #174EA6;\n",
              "    }\n",
              "\n",
              "    .colab-df-buttons div {\n",
              "      margin-bottom: 4px;\n",
              "    }\n",
              "\n",
              "    [theme=dark] .colab-df-convert {\n",
              "      background-color: #3B4455;\n",
              "      fill: #D2E3FC;\n",
              "    }\n",
              "\n",
              "    [theme=dark] .colab-df-convert:hover {\n",
              "      background-color: #434B5C;\n",
              "      box-shadow: 0px 1px 3px 1px rgba(0, 0, 0, 0.15);\n",
              "      filter: drop-shadow(0px 1px 2px rgba(0, 0, 0, 0.3));\n",
              "      fill: #FFFFFF;\n",
              "    }\n",
              "  </style>\n",
              "\n",
              "    <script>\n",
              "      const buttonEl =\n",
              "        document.querySelector('#df-156d9fdf-ce2a-49e0-b06a-35aa02ec8872 button.colab-df-convert');\n",
              "      buttonEl.style.display =\n",
              "        google.colab.kernel.accessAllowed ? 'block' : 'none';\n",
              "\n",
              "      async function convertToInteractive(key) {\n",
              "        const element = document.querySelector('#df-156d9fdf-ce2a-49e0-b06a-35aa02ec8872');\n",
              "        const dataTable =\n",
              "          await google.colab.kernel.invokeFunction('convertToInteractive',\n",
              "                                                    [key], {});\n",
              "        if (!dataTable) return;\n",
              "\n",
              "        const docLinkHtml = 'Like what you see? Visit the ' +\n",
              "          '<a target=\"_blank\" href=https://colab.research.google.com/notebooks/data_table.ipynb>data table notebook</a>'\n",
              "          + ' to learn more about interactive tables.';\n",
              "        element.innerHTML = '';\n",
              "        dataTable['output_type'] = 'display_data';\n",
              "        await google.colab.output.renderOutput(dataTable, element);\n",
              "        const docLink = document.createElement('div');\n",
              "        docLink.innerHTML = docLinkHtml;\n",
              "        element.appendChild(docLink);\n",
              "      }\n",
              "    </script>\n",
              "  </div>\n",
              "\n",
              "\n",
              "<div id=\"df-f229146b-81e7-4d65-a773-ea15431323d2\">\n",
              "  <button class=\"colab-df-quickchart\" onclick=\"quickchart('df-f229146b-81e7-4d65-a773-ea15431323d2')\"\n",
              "            title=\"Suggest charts\"\n",
              "            style=\"display:none;\">\n",
              "\n",
              "<svg xmlns=\"http://www.w3.org/2000/svg\" height=\"24px\"viewBox=\"0 0 24 24\"\n",
              "     width=\"24px\">\n",
              "    <g>\n",
              "        <path d=\"M19 3H5c-1.1 0-2 .9-2 2v14c0 1.1.9 2 2 2h14c1.1 0 2-.9 2-2V5c0-1.1-.9-2-2-2zM9 17H7v-7h2v7zm4 0h-2V7h2v10zm4 0h-2v-4h2v4z\"/>\n",
              "    </g>\n",
              "</svg>\n",
              "  </button>\n",
              "\n",
              "<style>\n",
              "  .colab-df-quickchart {\n",
              "      --bg-color: #E8F0FE;\n",
              "      --fill-color: #1967D2;\n",
              "      --hover-bg-color: #E2EBFA;\n",
              "      --hover-fill-color: #174EA6;\n",
              "      --disabled-fill-color: #AAA;\n",
              "      --disabled-bg-color: #DDD;\n",
              "  }\n",
              "\n",
              "  [theme=dark] .colab-df-quickchart {\n",
              "      --bg-color: #3B4455;\n",
              "      --fill-color: #D2E3FC;\n",
              "      --hover-bg-color: #434B5C;\n",
              "      --hover-fill-color: #FFFFFF;\n",
              "      --disabled-bg-color: #3B4455;\n",
              "      --disabled-fill-color: #666;\n",
              "  }\n",
              "\n",
              "  .colab-df-quickchart {\n",
              "    background-color: var(--bg-color);\n",
              "    border: none;\n",
              "    border-radius: 50%;\n",
              "    cursor: pointer;\n",
              "    display: none;\n",
              "    fill: var(--fill-color);\n",
              "    height: 32px;\n",
              "    padding: 0;\n",
              "    width: 32px;\n",
              "  }\n",
              "\n",
              "  .colab-df-quickchart:hover {\n",
              "    background-color: var(--hover-bg-color);\n",
              "    box-shadow: 0 1px 2px rgba(60, 64, 67, 0.3), 0 1px 3px 1px rgba(60, 64, 67, 0.15);\n",
              "    fill: var(--button-hover-fill-color);\n",
              "  }\n",
              "\n",
              "  .colab-df-quickchart-complete:disabled,\n",
              "  .colab-df-quickchart-complete:disabled:hover {\n",
              "    background-color: var(--disabled-bg-color);\n",
              "    fill: var(--disabled-fill-color);\n",
              "    box-shadow: none;\n",
              "  }\n",
              "\n",
              "  .colab-df-spinner {\n",
              "    border: 2px solid var(--fill-color);\n",
              "    border-color: transparent;\n",
              "    border-bottom-color: var(--fill-color);\n",
              "    animation:\n",
              "      spin 1s steps(1) infinite;\n",
              "  }\n",
              "\n",
              "  @keyframes spin {\n",
              "    0% {\n",
              "      border-color: transparent;\n",
              "      border-bottom-color: var(--fill-color);\n",
              "      border-left-color: var(--fill-color);\n",
              "    }\n",
              "    20% {\n",
              "      border-color: transparent;\n",
              "      border-left-color: var(--fill-color);\n",
              "      border-top-color: var(--fill-color);\n",
              "    }\n",
              "    30% {\n",
              "      border-color: transparent;\n",
              "      border-left-color: var(--fill-color);\n",
              "      border-top-color: var(--fill-color);\n",
              "      border-right-color: var(--fill-color);\n",
              "    }\n",
              "    40% {\n",
              "      border-color: transparent;\n",
              "      border-right-color: var(--fill-color);\n",
              "      border-top-color: var(--fill-color);\n",
              "    }\n",
              "    60% {\n",
              "      border-color: transparent;\n",
              "      border-right-color: var(--fill-color);\n",
              "    }\n",
              "    80% {\n",
              "      border-color: transparent;\n",
              "      border-right-color: var(--fill-color);\n",
              "      border-bottom-color: var(--fill-color);\n",
              "    }\n",
              "    90% {\n",
              "      border-color: transparent;\n",
              "      border-bottom-color: var(--fill-color);\n",
              "    }\n",
              "  }\n",
              "</style>\n",
              "\n",
              "  <script>\n",
              "    async function quickchart(key) {\n",
              "      const quickchartButtonEl =\n",
              "        document.querySelector('#' + key + ' button');\n",
              "      quickchartButtonEl.disabled = true;  // To prevent multiple clicks.\n",
              "      quickchartButtonEl.classList.add('colab-df-spinner');\n",
              "      try {\n",
              "        const charts = await google.colab.kernel.invokeFunction(\n",
              "            'suggestCharts', [key], {});\n",
              "      } catch (error) {\n",
              "        console.error('Error during call to suggestCharts:', error);\n",
              "      }\n",
              "      quickchartButtonEl.classList.remove('colab-df-spinner');\n",
              "      quickchartButtonEl.classList.add('colab-df-quickchart-complete');\n",
              "    }\n",
              "    (() => {\n",
              "      let quickchartButtonEl =\n",
              "        document.querySelector('#df-f229146b-81e7-4d65-a773-ea15431323d2 button');\n",
              "      quickchartButtonEl.style.display =\n",
              "        google.colab.kernel.accessAllowed ? 'block' : 'none';\n",
              "    })();\n",
              "  </script>\n",
              "</div>\n",
              "    </div>\n",
              "  </div>\n"
            ],
            "application/vnd.google.colaboratory.intrinsic+json": {
              "type": "dataframe",
              "summary": "{\n  \"name\": \"df\",\n  \"rows\": 8,\n  \"fields\": [\n    {\n      \"column\": 0,\n      \"properties\": {\n        \"dtype\": \"number\",\n        \"std\": 17.836377255059443,\n        \"min\": 5.410092418127339,\n        \"max\": 60.0,\n        \"num_unique_values\": 8,\n        \"samples\": [\n          13.648938478884094,\n          11.333764189236108,\n          60.0\n        ],\n        \"semantic_type\": \"\",\n        \"description\": \"\"\n      }\n    },\n    {\n      \"column\": 1,\n      \"properties\": {\n        \"dtype\": \"number\",\n        \"std\": 24.733245019872427,\n        \"min\": -17.334995962567366,\n        \"max\": 60.0,\n        \"num_unique_values\": 8,\n        \"samples\": [\n          -7.175715776902603,\n          -9.721820225830621,\n          60.0\n        ],\n        \"semantic_type\": \"\",\n        \"description\": \"\"\n      }\n    },\n    {\n      \"column\": 2,\n      \"properties\": {\n        \"dtype\": \"number\",\n        \"std\": 27.759433586263825,\n        \"min\": -26.707794071299883,\n        \"max\": 60.0,\n        \"num_unique_values\": 8,\n        \"samples\": [\n          -5.609337077639359,\n          -6.977941011570845,\n          60.0\n        ],\n        \"semantic_type\": \"\",\n        \"description\": \"\"\n      }\n    },\n    {\n      \"column\": 3,\n      \"properties\": {\n        \"dtype\": \"number\",\n        \"std\": 24.745956061423538,\n        \"min\": -20.39720516418192,\n        \"max\": 60.0,\n        \"num_unique_values\": 8,\n        \"samples\": [\n          -6.107276416431121,\n          -6.146142547730317,\n          60.0\n        ],\n        \"semantic_type\": \"\",\n        \"description\": \"\"\n      }\n    },\n    {\n      \"column\": 4,\n      \"properties\": {\n        \"dtype\": \"number\",\n        \"std\": 22.63703987104766,\n        \"min\": -12.939674291623255,\n        \"max\": 60.0,\n        \"num_unique_values\": 8,\n        \"samples\": [\n          -2.965088347206669,\n          -1.4517119763634478,\n          60.0\n        ],\n        \"semantic_type\": \"\",\n        \"description\": \"\"\n      }\n    },\n    {\n      \"column\": 5,\n      \"properties\": {\n        \"dtype\": \"number\",\n        \"std\": 27.23281682056855,\n        \"min\": -26.324816629266127,\n        \"max\": 60.0,\n        \"num_unique_values\": 8,\n        \"samples\": [\n          -7.997694513798028,\n          -11.222941434729345,\n          60.0\n        ],\n        \"semantic_type\": \"\",\n        \"description\": \"\"\n      }\n    },\n    {\n      \"column\": 6,\n      \"properties\": {\n        \"dtype\": \"number\",\n        \"std\": 25.417544642300683,\n        \"min\": -21.548308676282275,\n        \"max\": 60.0,\n        \"num_unique_values\": 8,\n        \"samples\": [\n          -8.725442342370805,\n          -9.507880188091784,\n          60.0\n        ],\n        \"semantic_type\": \"\",\n        \"description\": \"\"\n      }\n    },\n    {\n      \"column\": 7,\n      \"properties\": {\n        \"dtype\": \"number\",\n        \"std\": 28.335586802453115,\n        \"min\": -27.39003459701573,\n        \"max\": 60.0,\n        \"num_unique_values\": 8,\n        \"samples\": [\n          -3.060532704640299,\n          -5.578857587656836,\n          60.0\n        ],\n        \"semantic_type\": \"\",\n        \"description\": \"\"\n      }\n    },\n    {\n      \"column\": 8,\n      \"properties\": {\n        \"dtype\": \"number\",\n        \"std\": 26.909252225405798,\n        \"min\": -26.23730062757951,\n        \"max\": 60.0,\n        \"num_unique_values\": 8,\n        \"samples\": [\n          0.9126373746859175,\n          2.247678931416793,\n          60.0\n        ],\n        \"semantic_type\": \"\",\n        \"description\": \"\"\n      }\n    },\n    {\n      \"column\": 9,\n      \"properties\": {\n        \"dtype\": \"number\",\n        \"std\": 21.570683744327138,\n        \"min\": -7.650646457874509,\n        \"max\": 60.0,\n        \"num_unique_values\": 8,\n        \"samples\": [\n          3.524538733484296,\n          -0.14552290147285007,\n          60.0\n        ],\n        \"semantic_type\": \"\",\n        \"description\": \"\"\n      }\n    }\n  ]\n}"
            }
          },
          "metadata": {},
          "execution_count": 2
        }
      ]
    },
    {
      "cell_type": "code",
      "source": [
        "df.shape"
      ],
      "metadata": {
        "colab": {
          "base_uri": "https://localhost:8080/"
        },
        "id": "D-9Ue-qMhBVu",
        "outputId": "b4247fa3-1c01-43e3-b93c-292160626e71"
      },
      "execution_count": 3,
      "outputs": [
        {
          "output_type": "execute_result",
          "data": {
            "text/plain": [
              "(60, 10)"
            ]
          },
          "metadata": {},
          "execution_count": 3
        }
      ]
    },
    {
      "cell_type": "code",
      "source": [
        "from sklearn.decomposition import PCA"
      ],
      "metadata": {
        "id": "rnbG9iD2hkD4"
      },
      "execution_count": 4,
      "outputs": []
    },
    {
      "cell_type": "markdown",
      "source": [
        "тут мы вызвали обучили модель fit  и уже сделали новый датафрейм и поулчили новый фрейм\n",
        "pca_data = pca.transform(df) который уже описан с помощью не 10 а 2 главн компонент"
      ],
      "metadata": {
        "id": "WCg5pMr1ieYC"
      }
    },
    {
      "cell_type": "code",
      "source": [
        "pca = PCA(n_components = 2, svd_solver = 'full') # по умолчанию берет 10 компонент, если не указать количество\n",
        "pca.fit(df)   # скармливаем любую таблицу - обучаем метод pca\n",
        "pca_data = pca.transform(df)"
      ],
      "metadata": {
        "id": "Wb3QEBmohpFJ"
      },
      "execution_count": 16,
      "outputs": []
    },
    {
      "cell_type": "code",
      "source": [
        "pca_data"
      ],
      "metadata": {
        "colab": {
          "base_uri": "https://localhost:8080/"
        },
        "collapsed": true,
        "id": "mcJErxHaXLi8",
        "outputId": "dbd1858a-7442-4450-abff-b90e36d6c6f1"
      },
      "execution_count": 9,
      "outputs": [
        {
          "output_type": "execute_result",
          "data": {
            "text/plain": [
              "array([[-19.05792582, -31.91261445],\n",
              "       [ 47.94214826,  -3.19305177],\n",
              "       [-18.60812375,   7.92582395],\n",
              "       [-18.23644007,   7.43741694],\n",
              "       [-11.43675717,  29.76952731],\n",
              "       [-15.52505858, -33.87934044],\n",
              "       [-19.39685035,   6.7337932 ],\n",
              "       [-16.88217222, -30.18448633],\n",
              "       [-19.08571115,   3.28177924],\n",
              "       [-17.87221259, -32.47502423],\n",
              "       [-16.29422745, -32.43893874],\n",
              "       [-10.29574423,  28.29207343],\n",
              "       [-12.99423868,  26.70956818],\n",
              "       [-12.83435599,  28.62230398],\n",
              "       [-15.65006147, -31.37187432],\n",
              "       [ 46.63268255,   0.88834341],\n",
              "       [-14.62192458,  27.18271742],\n",
              "       [-19.03135742,   5.64593289],\n",
              "       [ 50.04555399,  -2.97068022],\n",
              "       [-11.88675431,  25.74425852],\n",
              "       [-14.66003114, -30.76939487],\n",
              "       [ 51.04412659,  -3.57900991],\n",
              "       [-19.3836692 ,   6.18511176],\n",
              "       [-16.0653657 , -31.78146888],\n",
              "       [ 45.09194377,   0.93218875],\n",
              "       [-14.76033299,  26.63009796],\n",
              "       [-12.36024813,  26.34010061],\n",
              "       [-21.04709394,   7.83405153],\n",
              "       [-13.44045836, -35.87579415],\n",
              "       [-23.23457072,   5.88467891],\n",
              "       [-15.51557762, -30.71289973],\n",
              "       [-13.80923492,  27.95851191],\n",
              "       [-11.42151735,  27.47266923],\n",
              "       [ 50.50366568,  -0.44276433],\n",
              "       [ 48.99464545,  -2.08384193],\n",
              "       [-16.16653008, -30.86542741],\n",
              "       [-14.40407705, -31.61185495],\n",
              "       [-10.68927857,  27.32412604],\n",
              "       [-17.7637286 ,   3.88348831],\n",
              "       [-12.85014717,  28.8201071 ],\n",
              "       [ 47.96502094,  -2.48362486],\n",
              "       [ 47.62685687,  -3.67982078],\n",
              "       [ 48.92551848,   0.17793024],\n",
              "       [-11.01507147,  28.24591962],\n",
              "       [-15.83588837, -32.1802549 ],\n",
              "       [-20.76316559,   6.68760101],\n",
              "       [-20.84553455,   3.40563474],\n",
              "       [-19.93113066,   4.30553297],\n",
              "       [ 44.85088642,   0.8676902 ],\n",
              "       [ 48.13356987,  -2.66062405],\n",
              "       [-18.73928376,   7.67287194],\n",
              "       [ 50.44145173,   0.68533755],\n",
              "       [-18.826607  , -33.65805511],\n",
              "       [-20.536066  ,   4.4352914 ],\n",
              "       [ 48.01942788,  -2.46430083],\n",
              "       [-12.71180806,  26.30082916],\n",
              "       [ 48.19819044,   1.43393338],\n",
              "       [-18.46390349,   7.63393904],\n",
              "       [-13.34430298,  27.77555037],\n",
              "       [-16.12114963, -33.85158501]])"
            ]
          },
          "metadata": {},
          "execution_count": 9
        }
      ]
    },
    {
      "cell_type": "code",
      "source": [
        "pca.explained_variance_ratio_"
      ],
      "metadata": {
        "colab": {
          "base_uri": "https://localhost:8080/"
        },
        "id": "QV0JLnulqzjb",
        "outputId": "cf1c29cb-7f47-45d3-b4b2-9a8bc50d7918"
      },
      "execution_count": 14,
      "outputs": [
        {
          "output_type": "execute_result",
          "data": {
            "text/plain": [
              "array([0.49224676, 0.28867288])"
            ]
          },
          "metadata": {},
          "execution_count": 14
        }
      ]
    },
    {
      "cell_type": "code",
      "source": [
        "import numpy as np\n",
        "\n",
        "explained_variance_ratio = np.cumsum(pca.explained_variance_ratio_)\n",
        "explained_variance_ratio"
      ],
      "metadata": {
        "colab": {
          "base_uri": "https://localhost:8080/"
        },
        "id": "2p4de4RIq8_K",
        "outputId": "e89511f5-8236-4bfa-fc4a-6b9318bb9c72"
      },
      "execution_count": 19,
      "outputs": [
        {
          "output_type": "execute_result",
          "data": {
            "text/plain": [
              "array([0.49224676, 0.78091964])"
            ]
          },
          "metadata": {},
          "execution_count": 19
        }
      ]
    },
    {
      "cell_type": "code",
      "source": [
        "import numpy as np\n",
        "import matplotlib.pyplot as plt\n",
        "%matplotlib inline\n",
        "\n",
        "# Предположим, что explained_variance_ratio содержит 2 элемента\n",
        "explained_variance_ratio = np.array([0.7, 0.9])  # Пример данных\n",
        "\n",
        "# Создаем массив x из двух элементов\n",
        "x = np.arange(1, 3)\n",
        "\n",
        "# Строим график\n",
        "plt.plot(x, explained_variance_ratio, ls='-')\n",
        "plt.xlabel('Principal Component')\n",
        "plt.ylabel('Cumulative Explained Variance Ratio')\n",
        "plt.title('Cumulative Explained Variance Ratio vs Principal Component')\n",
        "plt.show()"
      ],
      "metadata": {
        "colab": {
          "base_uri": "https://localhost:8080/",
          "height": 472
        },
        "id": "AnGQvii3YlSF",
        "outputId": "4c7bc1dc-0d49-4bac-ffe3-88cbabf42f64"
      },
      "execution_count": 22,
      "outputs": [
        {
          "output_type": "display_data",
          "data": {
            "text/plain": [
              "<Figure size 640x480 with 1 Axes>"
            ],
            "image/png": "[encoded data removed]"
          },
          "metadata": {}
        }
      ]
    },
    {
      "cell_type": "code",
      "source": [
        "plt.plot(np.arange(1, len(explained_variance_ratio) + 1), explained_variance_ratio, ls='-')\n",
        "plt.xlabel('Number of Components')\n",
        "plt.ylabel('Cumulative Explained Variance')\n",
        "plt.title('Cumulative Explained Variance by Principal Components')\n",
        "plt.show()\n"
      ],
      "metadata": {
        "colab": {
          "base_uri": "https://localhost:8080/",
          "height": 472
        },
        "id": "pHuF3ZvDuiIC",
        "outputId": "1695c1e6-a895-4d97-d4a5-c1c4ae415d7d"
      },
      "execution_count": 23,
      "outputs": [
        {
          "output_type": "display_data",
          "data": {
            "text/plain": [
              "<Figure size 640x480 with 1 Axes>"
            ],
            "image/png": "[encoded data removed]"
          },
          "metadata": {}
        }
      ]
    },
    {
      "cell_type": "code",
      "source": [
        "# Параметры графика\n",
        "plt.figure(figsize=(6, 4))\n",
        "plt.bar([1, 2], pca.explained_variance_ratio_, tick_label=['PC1', 'PC2'])\n",
        "plt.xlabel('Principal Components')\n",
        "plt.ylabel('Explained Variance Ratio')\n",
        "plt.title('Explained Variance of Each Principal Component')\n",
        "plt.show()\n"
      ],
      "metadata": {
        "colab": {
          "base_uri": "https://localhost:8080/",
          "height": 410
        },
        "id": "hSM9fuyyvBHw",
        "outputId": "f6463b6d-677d-4add-be3a-f22a0eca9978"
      },
      "execution_count": 24,
      "outputs": [
        {
          "output_type": "display_data",
          "data": {
            "text/plain": [
              "<Figure size 600x400 with 1 Axes>"
            ],
            "image/png": "[encoded data removed]"
          },
          "metadata": {}
        }
      ]
    },
    {
      "cell_type": "code",
      "source": [
        "plt.figure(figsize=(8, 6))\n",
        "plt.scatter(pca_data[:, 0], pca_data[:, 1], alpha=0.7, edgecolors='k')\n",
        "plt.xlabel('Principal Component 1')\n",
        "plt.ylabel('Principal Component 2')\n",
        "plt.title('Data in Principal Component Space')\n",
        "plt.grid(True)\n",
        "plt.show()\n"
      ],
      "metadata": {
        "colab": {
          "base_uri": "https://localhost:8080/",
          "height": 564
        },
        "id": "EYKg9SdEvGHB",
        "outputId": "e9d60eba-e85b-48c7-cc23-7f3d5c64b96d"
      },
      "execution_count": 25,
      "outputs": [
        {
          "output_type": "display_data",
          "data": {
            "text/plain": [
              "<Figure size 800x600 with 1 Axes>"
            ],
            "image/png": "[encoded data removed]"
          },
          "metadata": {}
        }
      ]
    },
    {
      "cell_type": "markdown",
      "source": [
        "Выведем полученные новые координаты объекта с индексом 0."
      ],
      "metadata": {
        "id": "J6Eh2MRgiEf_"
      }
    },
    {
      "cell_type": "code",
      "source": [
        "pca_data[0]     # в итоге мы вместо 10 объектов снизили до 2 наших компонент"
      ],
      "metadata": {
        "colab": {
          "base_uri": "https://localhost:8080/"
        },
        "id": "M7P2F-s6iE2-",
        "outputId": "7f0973e7-51ad-4932-ef14-edb6f34e6d86"
      },
      "execution_count": 26,
      "outputs": [
        {
          "output_type": "execute_result",
          "data": {
            "text/plain": [
              "array([-19.05792582, -31.91261445])"
            ]
          },
          "metadata": {},
          "execution_count": 26
        }
      ]
    },
    {
      "cell_type": "code",
      "source": [
        "pca.components_.shape"
      ],
      "metadata": {
        "colab": {
          "base_uri": "https://localhost:8080/"
        },
        "id": "04x3L5cdjab7",
        "outputId": "b49926b6-9d17-4f1d-9cd8-f3099233601f"
      },
      "execution_count": 27,
      "outputs": [
        {
          "output_type": "execute_result",
          "data": {
            "text/plain": [
              "(2, 10)"
            ]
          },
          "metadata": {},
          "execution_count": 27
        }
      ]
    },
    {
      "cell_type": "code",
      "source": [
        "pca.components_"
      ],
      "metadata": {
        "colab": {
          "base_uri": "https://localhost:8080/"
        },
        "id": "UAstDQmnjeMD",
        "outputId": "665d5efc-c2a4-4a5a-dac3-85a7c18d3691"
      },
      "execution_count": 28,
      "outputs": [
        {
          "output_type": "execute_result",
          "data": {
            "text/plain": [
              "array([[ 0.18350193, -0.03302002,  0.43776131, -0.07859612, -0.14966591,\n",
              "         0.46775475,  0.05267998,  0.52494143, -0.49533105, -0.0503834 ],\n",
              "       [-0.0174599 ,  0.31725924,  0.47573442,  0.28194334, -0.0239379 ,\n",
              "         0.0960839 ,  0.16039653,  0.13156141,  0.63942788, -0.36265389]])"
            ]
          },
          "metadata": {},
          "execution_count": 28
        }
      ]
    },
    {
      "cell_type": "markdown",
      "source": [
        "По заданию нас просят вычислить долю объясненной дисперсии при использовании двух ГК. Для этого построим 10 ГК, тк изначально объекты обладали 10 признаками."
      ],
      "metadata": {
        "id": "Zfc3FO39jqmt"
      }
    },
    {
      "cell_type": "code",
      "source": [
        "pca = PCA(n_components = 10, svd_solver = 'full')\n",
        "pca_data = pca.fit_transform(df)"
      ],
      "metadata": {
        "id": "KiYy9UPQjr8b"
      },
      "execution_count": 29,
      "outputs": []
    },
    {
      "cell_type": "code",
      "source": [
        "pca_data[0]"
      ],
      "metadata": {
        "colab": {
          "base_uri": "https://localhost:8080/"
        },
        "id": "UEPReXydoZ53",
        "outputId": "dd6e3232-2b91-4833-9044-872a8b6c9ca5"
      },
      "execution_count": 30,
      "outputs": [
        {
          "output_type": "execute_result",
          "data": {
            "text/plain": [
              "array([-19.05792582, -31.91261445, -14.19047482,  -1.40846852,\n",
              "         0.65221233,   0.72921321,   2.70383991,   1.45816483,\n",
              "         0.3763512 ,   0.35953474])"
            ]
          },
          "metadata": {},
          "execution_count": 30
        }
      ]
    },
    {
      "cell_type": "markdown",
      "source": [
        "Доля объясненной дисперсии для каждой ГК хранится в поле explained_variance_ratio_, используем сумму с накоплением: np.cumsum."
      ],
      "metadata": {
        "id": "HPSgWogKj8_x"
      }
    },
    {
      "cell_type": "code",
      "source": [
        "import numpy as np"
      ],
      "metadata": {
        "id": "02RzZNq8j9sc"
      },
      "execution_count": 31,
      "outputs": []
    },
    {
      "cell_type": "code",
      "source": [
        "pca.explained_variance_  # получим массив чисел описывающих каждой из 10 гла компоннет сначала 1 и так далее"
      ],
      "metadata": {
        "colab": {
          "base_uri": "https://localhost:8080/"
        },
        "id": "wIij0DwGkBnF",
        "outputId": "6ff4566a-7bb1-4671-939e-2b91cfe8eecf"
      },
      "execution_count": 32,
      "outputs": [
        {
          "output_type": "execute_result",
          "data": {
            "text/plain": [
              "array([799.47894399, 468.8459252 , 341.34346024,   3.3539812 ,\n",
              "         2.84731117,   2.35752266,   1.93235227,   1.78631014,\n",
              "         1.37394802,   0.82287084])"
            ]
          },
          "metadata": {},
          "execution_count": 32
        }
      ]
    },
    {
      "cell_type": "markdown",
      "source": [
        "находим доли предыдухи чисел"
      ],
      "metadata": {
        "id": "BBL4QWCYkgbz"
      }
    },
    {
      "cell_type": "markdown",
      "source": [
        "результат показывает что первые 3 имеют значительн долю, а вторые пять нет, то есть можно модель описать только первыми тремя числам, то е методом ГК можно использовать эти 3 ГК\n",
        "0.49224676, 0.28867288, 0.2101684"
      ],
      "metadata": {
        "id": "GcHQpAX_lMbg"
      }
    },
    {
      "cell_type": "markdown",
      "source": [
        "То есть в ответ ена вопрос к заданию : Введите долю объясненной дисперсии при использовании первых двух главных компонент.\n",
        "нам надо сложить первые два числа"
      ],
      "metadata": {
        "id": "XobK-4j6l6Wj"
      }
    },
    {
      "cell_type": "code",
      "source": [
        "pca.explained_variance_ratio_ # показывает долю дисперсии в процентах , то есть первая К показывает 48 % , вторая 28, и так далее\n",
        "                               # и в итоге мы видим что Три ГК вносят ощутимы вклад , как и предсказывалось. То есть все данные можно опсать треся столбцами"
      ],
      "metadata": {
        "colab": {
          "base_uri": "https://localhost:8080/"
        },
        "id": "rObJ6knRkjrw",
        "outputId": "3b6116ef-91d6-4122-bacf-a8ef1f9d6f95"
      },
      "execution_count": 33,
      "outputs": [
        {
          "output_type": "execute_result",
          "data": {
            "text/plain": [
              "array([0.49224676, 0.28867288, 0.2101684 , 0.00206508, 0.00175312,\n",
              "       0.00145155, 0.00118977, 0.00109985, 0.00084595, 0.00050665])"
            ]
          },
          "metadata": {},
          "execution_count": 33
        }
      ]
    },
    {
      "cell_type": "markdown",
      "source": [
        "чтоюы не считать вручну. сделаем такой метод который считает:\n",
        "array([0.49224676 (перв элемен) 0.78091964 (сумма первых двух)  0.99108804 (ссумма первых трех ) и так далее 0.99315312, 0.99490623,\n",
        "       0.99635778, 0.99754755, 0.9986474 , 0.99949335, 1 (сумма всех 10 равна 1 )         ])"
      ],
      "metadata": {
        "id": "NeKXoQohmdsQ"
      }
    },
    {
      "cell_type": "code",
      "source": [
        "explained_variance_ratio = np.cumsum(pca.explained_variance_ratio_)\n",
        "explained_variance_ratio"
      ],
      "metadata": {
        "colab": {
          "base_uri": "https://localhost:8080/"
        },
        "collapsed": true,
        "id": "w5h1rekBmpHe",
        "outputId": "e9601879-9f22-4fb6-eb91-a3d24289f4cb"
      },
      "execution_count": 34,
      "outputs": [
        {
          "output_type": "execute_result",
          "data": {
            "text/plain": [
              "array([0.49224676, 0.78091964, 0.99108804, 0.99315312, 0.99490623,\n",
              "       0.99635778, 0.99754755, 0.9986474 , 0.99949335, 1.        ])"
            ]
          },
          "metadata": {},
          "execution_count": 34
        }
      ]
    },
    {
      "cell_type": "code",
      "source": [
        "# Инициализация массива explained_variance_ratio = np.array([0.231, 0.345, 0.452])\n",
        "\n",
        "# Округление чисел до тысячных\n",
        "rounded_values = np.round(explained_variance_ratio, decimals=3)\n",
        "\n",
        "# Печать результата\n",
        "print(rounded_values)"
      ],
      "metadata": {
        "colab": {
          "base_uri": "https://localhost:8080/"
        },
        "id": "IeE_0IwwosY-",
        "outputId": "0591a52e-0f29-40fb-f1e9-4f4be839debc"
      },
      "execution_count": 35,
      "outputs": [
        {
          "output_type": "stream",
          "name": "stdout",
          "text": [
            "[0.492 0.781 0.991 0.993 0.995 0.996 0.998 0.999 0.999 1.   ]\n"
          ]
        }
      ]
    },
    {
      "cell_type": "code",
      "source": [
        "import matplotlib.pyplot as plt\n",
        "%matplotlib inline"
      ],
      "metadata": {
        "id": "q7DJ4w45pY22"
      },
      "execution_count": null,
      "outputs": []
    },
    {
      "cell_type": "code",
      "source": [
        "plt.plot(np.arange(1,11), explained_variance_ratio, ls = '-') # результат подтверждает как выше что нам  хватит три ГК"
      ],
      "metadata": {
        "colab": {
          "base_uri": "https://localhost:8080/",
          "height": 447
        },
        "id": "QzHm5EATpdoC",
        "outputId": "2a64dc1e-19d4-4e3c-9c30-5065596c07c5"
      },
      "execution_count": 36,
      "outputs": [
        {
          "output_type": "execute_result",
          "data": {
            "text/plain": [
              "[<matplotlib.lines.Line2D at 0x7daa71a02a10>]"
            ]
          },
          "metadata": {},
          "execution_count": 36
        },
        {
          "output_type": "display_data",
          "data": {
            "text/plain": [
              "<Figure size 640x480 with 1 Axes>"
            ],
            "image/png": "[encoded data removed]"
          },
          "metadata": {}
        }
      ]
    },
    {
      "cell_type": "markdown",
      "source": [
        "Далее\n",
        "Какое минимальное количество главных компонент необходимо использовать, чтобы доля объясненной дисперсии превышала 0.85\n",
        "Определим количество ГК, необходимых для превышения заданного порога доли объясненной дисперсии:"
      ],
      "metadata": {
        "id": "vOBJ3FZYqSef"
      }
    },
    {
      "cell_type": "code",
      "source": [
        "treshold = 0.85\n",
        "dim = 0\n",
        "for value in explained_variance_ratio:\n",
        "  if value > treshold:\n",
        "    print('Минимальное количество ГК для заданного порога: ', dim + 1)\n",
        "    break\n",
        "  dim += 1"
      ],
      "metadata": {
        "id": "JCGvyYVUqUlo",
        "colab": {
          "base_uri": "https://localhost:8080/"
        },
        "outputId": "59c507e9-139a-4056-de06-c4666ce90170"
      },
      "execution_count": 37,
      "outputs": [
        {
          "output_type": "stream",
          "name": "stdout",
          "text": [
            "Минимальное количество ГК для заданного порога:  3\n"
          ]
        }
      ]
    },
    {
      "cell_type": "markdown",
      "source": [
        "Далее задание\n",
        "Какое количество групп объектов можно выделить, если использовать только первые две главных компоненты?"
      ],
      "metadata": {
        "id": "qzKsqLHUq3zr"
      }
    },
    {
      "cell_type": "markdown",
      "source": [
        "Вернемся к случаю только первых двух ГК и построим соответствующий график.\n",
        "т к 2 ГК то одну мы деаем по оси х втору по оси y\n",
        "по оси х берет первый весь преобразованный столбец 60 точек  pca_data[:, 0]\n",
        "по оси y ,берет второй столбец 60 точек (в файле 60 строк) pca_data[:, 1]\n",
        " 1 столюец 1ГК,\n",
        " 2 столюец это 2 ГК"
      ],
      "metadata": {
        "id": "Nmo_xNbSq6gP"
      }
    },
    {
      "cell_type": "code",
      "source": [
        "plt.scatter(pca_data[:, 0], pca_data[:, 1])"
      ],
      "metadata": {
        "colab": {
          "base_uri": "https://localhost:8080/",
          "height": 447
        },
        "id": "994mhCElq8ho",
        "outputId": "f11e51a8-7270-466f-b873-5f6f9bd329bf"
      },
      "execution_count": 38,
      "outputs": [
        {
          "output_type": "execute_result",
          "data": {
            "text/plain": [
              "<matplotlib.collections.PathCollection at 0x7daa70fe5b10>"
            ]
          },
          "metadata": {},
          "execution_count": 38
        },
        {
          "output_type": "display_data",
          "data": {
            "text/plain": [
              "<Figure size 640x480 with 1 Axes>"
            ],
            "image/png": "[encoded data removed]"
          },
          "metadata": {}
        }
      ]
    },
    {
      "cell_type": "markdown",
      "source": [
        "Разделение получиллось на 4 объекта - вводим в ответ 4 , но по нему видно что 4 не влияет ни на что, что говорит о резултататх выше что у насхватает 3 ГК"
      ],
      "metadata": {
        "id": "24hOpzVQsimF"
      }
    },
    {
      "cell_type": "markdown",
      "source": [],
      "metadata": {
        "id": "CAn0YxtmJW2H"
      }
    }
  ]
}