{
  "nbformat": 4,
  "nbformat_minor": 0,
  "metadata": {
    "colab": {
      "provenance": []
    },
    "kernelspec": {
      "name": "python3",
      "display_name": "Python 3"
    },
    "language_info": {
      "name": "python"
    }
  },
  "cells": [
    {
      "cell_type": "code",
      "execution_count": 1,
      "metadata": {
        "id": "tvfs1aSWgHkL"
      },
      "outputs": [],
      "source": [
        "import pandas as pd"
      ]
    },
    {
      "cell_type": "code",
      "source": [
        "df = pd.read_csv('https://dc-edu.itmo.ru/assets/courseware/v1/6c89dd85d23926d43494d0e4dd968840/asset-v1:ITMO+DS+2024+type@asset+block/94_16.csv', header = None)\n",
        "df.describe()"
      ],
      "metadata": {
        "colab": {
          "base_uri": "https://localhost:8080/",
          "height": 300
        },
        "id": "DFoseO27gTxp",
        "outputId": "22610939-161e-4366-b983-d81ac67fecfb"
      },
      "execution_count": 2,
      "outputs": [
        {
          "output_type": "execute_result",
          "data": {
            "text/plain": [
              "               0          1          2          3          4          5  \\\n",
              "count  60.000000  60.000000  60.000000  60.000000  60.000000  60.000000   \n",
              "mean   13.648938  -7.175716  -5.609337  -6.107276  -2.965088  -7.997695   \n",
              "std     5.410092   7.810819  17.654396   8.925655   4.599278  14.330792   \n",
              "min     6.914555 -17.334996 -26.707794 -20.397205 -12.939674 -26.324817   \n",
              "25%    10.021664 -13.027605 -22.980626 -12.779413  -5.742113 -18.292393   \n",
              "50%    11.333764  -9.721820  -6.977941  -6.146143  -1.451712 -11.222941   \n",
              "75%    15.523334  -4.423073  11.708101   0.097262   0.257695   0.626118   \n",
              "max    25.095918   7.374109  15.992131   9.412555   3.928127  16.158754   \n",
              "\n",
              "               6          7          8          9  \n",
              "count  60.000000  60.000000  60.000000  60.000000  \n",
              "mean   -8.725442  -3.060533   0.912637   3.524539  \n",
              "std     6.859131  19.763887  19.750764   9.393779  \n",
              "min   -21.548309 -27.390035 -26.237301  -7.650646  \n",
              "25%   -15.139137 -21.486845 -16.531338  -2.343354  \n",
              "50%    -9.507880  -5.578858   2.247679  -0.145523  \n",
              "75%    -4.138139  13.180596  19.074481   7.649601  \n",
              "max     3.907143  25.980566  25.302010  22.819532  "
            ],
            "text/html": [
              "\n",
              "  <div id=\"df-f91c3a82-db08-4872-a594-4d25c5d0ac02\" class=\"colab-df-container\">\n",
              "    <div>\n",
              "<style scoped>\n",
              "    .dataframe tbody tr th:only-of-type {\n",
              "        vertical-align: middle;\n",
              "    }\n",
              "\n",
              "    .dataframe tbody tr th {\n",
              "        vertical-align: top;\n",
              "    }\n",
              "\n",
              "    .dataframe thead th {\n",
              "        text-align: right;\n",
              "    }\n",
              "</style>\n",
              "<table border=\"1\" class=\"dataframe\">\n",
              "  <thead>\n",
              "    <tr style=\"text-align: right;\">\n",
              "      <th></th>\n",
              "      <th>0</th>\n",
              "      <th>1</th>\n",
              "      <th>2</th>\n",
              "      <th>3</th>\n",
              "      <th>4</th>\n",
              "      <th>5</th>\n",
              "      <th>6</th>\n",
              "      <th>7</th>\n",
              "      <th>8</th>\n",
              "      <th>9</th>\n",
              "    </tr>\n",
              "  </thead>\n",
              "  <tbody>\n",
              "    <tr>\n",
              "      <th>count</th>\n",
              "      <td>60.000000</td>\n",
              "      <td>60.000000</td>\n",
              "      <td>60.000000</td>\n",
              "      <td>60.000000</td>\n",
              "      <td>60.000000</td>\n",
              "      <td>60.000000</td>\n",
              "      <td>60.000000</td>\n",
              "      <td>60.000000</td>\n",
              "      <td>60.000000</td>\n",
              "      <td>60.000000</td>\n",
              "    </tr>\n",
              "    <tr>\n",
              "      <th>mean</th>\n",
              "      <td>13.648938</td>\n",
              "      <td>-7.175716</td>\n",
              "      <td>-5.609337</td>\n",
              "      <td>-6.107276</td>\n",
              "      <td>-2.965088</td>\n",
              "      <td>-7.997695</td>\n",
              "      <td>-8.725442</td>\n",
              "      <td>-3.060533</td>\n",
              "      <td>0.912637</td>\n",
              "      <td>3.524539</td>\n",
              "    </tr>\n",
              "    <tr>\n",
              "      <th>std</th>\n",
              "      <td>5.410092</td>\n",
              "      <td>7.810819</td>\n",
              "      <td>17.654396</td>\n",
              "      <td>8.925655</td>\n",
              "      <td>4.599278</td>\n",
              "      <td>14.330792</td>\n",
              "      <td>6.859131</td>\n",
              "      <td>19.763887</td>\n",
              "      <td>19.750764</td>\n",
              "      <td>9.393779</td>\n",
              "    </tr>\n",
              "    <tr>\n",
              "      <th>min</th>\n",
              "      <td>6.914555</td>\n",
              "      <td>-17.334996</td>\n",
              "      <td>-26.707794</td>\n",
              "      <td>-20.397205</td>\n",
              "      <td>-12.939674</td>\n",
              "      <td>-26.324817</td>\n",
              "      <td>-21.548309</td>\n",
              "      <td>-27.390035</td>\n",
              "      <td>-26.237301</td>\n",
              "      <td>-7.650646</td>\n",
              "    </tr>\n",
              "    <tr>\n",
              "      <th>25%</th>\n",
              "      <td>10.021664</td>\n",
              "      <td>-13.027605</td>\n",
              "      <td>-22.980626</td>\n",
              "      <td>-12.779413</td>\n",
              "      <td>-5.742113</td>\n",
              "      <td>-18.292393</td>\n",
              "      <td>-15.139137</td>\n",
              "      <td>-21.486845</td>\n",
              "      <td>-16.531338</td>\n",
              "      <td>-2.343354</td>\n",
              "    </tr>\n",
              "    <tr>\n",
              "      <th>50%</th>\n",
              "      <td>11.333764</td>\n",
              "      <td>-9.721820</td>\n",
              "      <td>-6.977941</td>\n",
              "      <td>-6.146143</td>\n",
              "      <td>-1.451712</td>\n",
              "      <td>-11.222941</td>\n",
              "      <td>-9.507880</td>\n",
              "      <td>-5.578858</td>\n",
              "      <td>2.247679</td>\n",
              "      <td>-0.145523</td>\n",
              "    </tr>\n",
              "    <tr>\n",
              "      <th>75%</th>\n",
              "      <td>15.523334</td>\n",
              "      <td>-4.423073</td>\n",
              "      <td>11.708101</td>\n",
              "      <td>0.097262</td>\n",
              "      <td>0.257695</td>\n",
              "      <td>0.626118</td>\n",
              "      <td>-4.138139</td>\n",
              "      <td>13.180596</td>\n",
              "      <td>19.074481</td>\n",
              "      <td>7.649601</td>\n",
              "    </tr>\n",
              "    <tr>\n",
              "      <th>max</th>\n",
              "      <td>25.095918</td>\n",
              "      <td>7.374109</td>\n",
              "      <td>15.992131</td>\n",
              "      <td>9.412555</td>\n",
              "      <td>3.928127</td>\n",
              "      <td>16.158754</td>\n",
              "      <td>3.907143</td>\n",
              "      <td>25.980566</td>\n",
              "      <td>25.302010</td>\n",
              "      <td>22.819532</td>\n",
              "    </tr>\n",
              "  </tbody>\n",
              "</table>\n",
              "</div>\n",
              "    <div class=\"colab-df-buttons\">\n",
              "\n",
              "  <div class=\"colab-df-container\">\n",
              "    <button class=\"colab-df-convert\" onclick=\"convertToInteractive('df-f91c3a82-db08-4872-a594-4d25c5d0ac02')\"\n",
              "            title=\"Convert this dataframe to an interactive table.\"\n",
              "            style=\"display:none;\">\n",
              "\n",
              "  <svg xmlns=\"http://www.w3.org/2000/svg\" height=\"24px\" viewBox=\"0 -960 960 960\">\n",
              "    <path d=\"M120-120v-720h720v720H120Zm60-500h600v-160H180v160Zm220 220h160v-160H400v160Zm0 220h160v-160H400v160ZM180-400h160v-160H180v160Zm440 0h160v-160H620v160ZM180-180h160v-160H180v160Zm440 0h160v-160H620v160Z\"/>\n",
              "  </svg>\n",
              "    </button>\n",
              "\n",
              "  <style>\n",
              "    .colab-df-container {\n",
              "      display:flex;\n",
              "      gap: 12px;\n",
              "    }\n",
              "\n",
              "    .colab-df-convert {\n",
              "      background-color: #E8F0FE;\n",
              "      border: none;\n",
              "      border-radius: 50%;\n",
              "      cursor: pointer;\n",
              "      display: none;\n",
              "      fill: #1967D2;\n",
              "      height: 32px;\n",
              "      padding: 0 0 0 0;\n",
              "      width: 32px;\n",
              "    }\n",
              "\n",
              "    .colab-df-convert:hover {\n",
              "      background-color: #E2EBFA;\n",
              "      box-shadow: 0px 1px 2px rgba(60, 64, 67, 0.3), 0px 1px 3px 1px rgba(60, 64, 67, 0.15);\n",
              "      fill: #174EA6;\n",
              "    }\n",
              "\n",
              "    .colab-df-buttons div {\n",
              "      margin-bottom: 4px;\n",
              "    }\n",
              "\n",
              "    [theme=dark] .colab-df-convert {\n",
              "      background-color: #3B4455;\n",
              "      fill: #D2E3FC;\n",
              "    }\n",
              "\n",
              "    [theme=dark] .colab-df-convert:hover {\n",
              "      background-color: #434B5C;\n",
              "      box-shadow: 0px 1px 3px 1px rgba(0, 0, 0, 0.15);\n",
              "      filter: drop-shadow(0px 1px 2px rgba(0, 0, 0, 0.3));\n",
              "      fill: #FFFFFF;\n",
              "    }\n",
              "  </style>\n",
              "\n",
              "    <script>\n",
              "      const buttonEl =\n",
              "        document.querySelector('#df-f91c3a82-db08-4872-a594-4d25c5d0ac02 button.colab-df-convert');\n",
              "      buttonEl.style.display =\n",
              "        google.colab.kernel.accessAllowed ? 'block' : 'none';\n",
              "\n",
              "      async function convertToInteractive(key) {\n",
              "        const element = document.querySelector('#df-f91c3a82-db08-4872-a594-4d25c5d0ac02');\n",
              "        const dataTable =\n",
              "          await google.colab.kernel.invokeFunction('convertToInteractive',\n",
              "                                                    [key], {});\n",
              "        if (!dataTable) return;\n",
              "\n",
              "        const docLinkHtml = 'Like what you see? Visit the ' +\n",
              "          '<a target=\"_blank\" href=https://colab.research.google.com/notebooks/data_table.ipynb>data table notebook</a>'\n",
              "          + ' to learn more about interactive tables.';\n",
              "        element.innerHTML = '';\n",
              "        dataTable['output_type'] = 'display_data';\n",
              "        await google.colab.output.renderOutput(dataTable, element);\n",
              "        const docLink = document.createElement('div');\n",
              "        docLink.innerHTML = docLinkHtml;\n",
              "        element.appendChild(docLink);\n",
              "      }\n",
              "    </script>\n",
              "  </div>\n",
              "\n",
              "\n",
              "<div id=\"df-cca8d1af-3d40-442c-8af9-a126ec0f0ae3\">\n",
              "  <button class=\"colab-df-quickchart\" onclick=\"quickchart('df-cca8d1af-3d40-442c-8af9-a126ec0f0ae3')\"\n",
              "            title=\"Suggest charts\"\n",
              "            style=\"display:none;\">\n",
              "\n",
              "<svg xmlns=\"http://www.w3.org/2000/svg\" height=\"24px\"viewBox=\"0 0 24 24\"\n",
              "     width=\"24px\">\n",
              "    <g>\n",
              "        <path d=\"M19 3H5c-1.1 0-2 .9-2 2v14c0 1.1.9 2 2 2h14c1.1 0 2-.9 2-2V5c0-1.1-.9-2-2-2zM9 17H7v-7h2v7zm4 0h-2V7h2v10zm4 0h-2v-4h2v4z\"/>\n",
              "    </g>\n",
              "</svg>\n",
              "  </button>\n",
              "\n",
              "<style>\n",
              "  .colab-df-quickchart {\n",
              "      --bg-color: #E8F0FE;\n",
              "      --fill-color: #1967D2;\n",
              "      --hover-bg-color: #E2EBFA;\n",
              "      --hover-fill-color: #174EA6;\n",
              "      --disabled-fill-color: #AAA;\n",
              "      --disabled-bg-color: #DDD;\n",
              "  }\n",
              "\n",
              "  [theme=dark] .colab-df-quickchart {\n",
              "      --bg-color: #3B4455;\n",
              "      --fill-color: #D2E3FC;\n",
              "      --hover-bg-color: #434B5C;\n",
              "      --hover-fill-color: #FFFFFF;\n",
              "      --disabled-bg-color: #3B4455;\n",
              "      --disabled-fill-color: #666;\n",
              "  }\n",
              "\n",
              "  .colab-df-quickchart {\n",
              "    background-color: var(--bg-color);\n",
              "    border: none;\n",
              "    border-radius: 50%;\n",
              "    cursor: pointer;\n",
              "    display: none;\n",
              "    fill: var(--fill-color);\n",
              "    height: 32px;\n",
              "    padding: 0;\n",
              "    width: 32px;\n",
              "  }\n",
              "\n",
              "  .colab-df-quickchart:hover {\n",
              "    background-color: var(--hover-bg-color);\n",
              "    box-shadow: 0 1px 2px rgba(60, 64, 67, 0.3), 0 1px 3px 1px rgba(60, 64, 67, 0.15);\n",
              "    fill: var(--button-hover-fill-color);\n",
              "  }\n",
              "\n",
              "  .colab-df-quickchart-complete:disabled,\n",
              "  .colab-df-quickchart-complete:disabled:hover {\n",
              "    background-color: var(--disabled-bg-color);\n",
              "    fill: var(--disabled-fill-color);\n",
              "    box-shadow: none;\n",
              "  }\n",
              "\n",
              "  .colab-df-spinner {\n",
              "    border: 2px solid var(--fill-color);\n",
              "    border-color: transparent;\n",
              "    border-bottom-color: var(--fill-color);\n",
              "    animation:\n",
              "      spin 1s steps(1) infinite;\n",
              "  }\n",
              "\n",
              "  @keyframes spin {\n",
              "    0% {\n",
              "      border-color: transparent;\n",
              "      border-bottom-color: var(--fill-color);\n",
              "      border-left-color: var(--fill-color);\n",
              "    }\n",
              "    20% {\n",
              "      border-color: transparent;\n",
              "      border-left-color: var(--fill-color);\n",
              "      border-top-color: var(--fill-color);\n",
              "    }\n",
              "    30% {\n",
              "      border-color: transparent;\n",
              "      border-left-color: var(--fill-color);\n",
              "      border-top-color: var(--fill-color);\n",
              "      border-right-color: var(--fill-color);\n",
              "    }\n",
              "    40% {\n",
              "      border-color: transparent;\n",
              "      border-right-color: var(--fill-color);\n",
              "      border-top-color: var(--fill-color);\n",
              "    }\n",
              "    60% {\n",
              "      border-color: transparent;\n",
              "      border-right-color: var(--fill-color);\n",
              "    }\n",
              "    80% {\n",
              "      border-color: transparent;\n",
              "      border-right-color: var(--fill-color);\n",
              "      border-bottom-color: var(--fill-color);\n",
              "    }\n",
              "    90% {\n",
              "      border-color: transparent;\n",
              "      border-bottom-color: var(--fill-color);\n",
              "    }\n",
              "  }\n",
              "</style>\n",
              "\n",
              "  <script>\n",
              "    async function quickchart(key) {\n",
              "      const quickchartButtonEl =\n",
              "        document.querySelector('#' + key + ' button');\n",
              "      quickchartButtonEl.disabled = true;  // To prevent multiple clicks.\n",
              "      quickchartButtonEl.classList.add('colab-df-spinner');\n",
              "      try {\n",
              "        const charts = await google.colab.kernel.invokeFunction(\n",
              "            'suggestCharts', [key], {});\n",
              "      } catch (error) {\n",
              "        console.error('Error during call to suggestCharts:', error);\n",
              "      }\n",
              "      quickchartButtonEl.classList.remove('colab-df-spinner');\n",
              "      quickchartButtonEl.classList.add('colab-df-quickchart-complete');\n",
              "    }\n",
              "    (() => {\n",
              "      let quickchartButtonEl =\n",
              "        document.querySelector('#df-cca8d1af-3d40-442c-8af9-a126ec0f0ae3 button');\n",
              "      quickchartButtonEl.style.display =\n",
              "        google.colab.kernel.accessAllowed ? 'block' : 'none';\n",
              "    })();\n",
              "  </script>\n",
              "</div>\n",
              "    </div>\n",
              "  </div>\n"
            ],
            "application/vnd.google.colaboratory.intrinsic+json": {
              "type": "dataframe",
              "summary": "{\n  \"name\": \"df\",\n  \"rows\": 8,\n  \"fields\": [\n    {\n      \"column\": 0,\n      \"properties\": {\n        \"dtype\": \"number\",\n        \"std\": 17.836377255059443,\n        \"min\": 5.410092418127339,\n        \"max\": 60.0,\n        \"num_unique_values\": 8,\n        \"samples\": [\n          13.648938478884094,\n          11.333764189236108,\n          60.0\n        ],\n        \"semantic_type\": \"\",\n        \"description\": \"\"\n      }\n    },\n    {\n      \"column\": 1,\n      \"properties\": {\n        \"dtype\": \"number\",\n        \"std\": 24.733245019872427,\n        \"min\": -17.334995962567366,\n        \"max\": 60.0,\n        \"num_unique_values\": 8,\n        \"samples\": [\n          -7.175715776902603,\n          -9.721820225830621,\n          60.0\n        ],\n        \"semantic_type\": \"\",\n        \"description\": \"\"\n      }\n    },\n    {\n      \"column\": 2,\n      \"properties\": {\n        \"dtype\": \"number\",\n        \"std\": 27.759433586263825,\n        \"min\": -26.707794071299883,\n        \"max\": 60.0,\n        \"num_unique_values\": 8,\n        \"samples\": [\n          -5.609337077639359,\n          -6.977941011570845,\n          60.0\n        ],\n        \"semantic_type\": \"\",\n        \"description\": \"\"\n      }\n    },\n    {\n      \"column\": 3,\n      \"properties\": {\n        \"dtype\": \"number\",\n        \"std\": 24.745956061423538,\n        \"min\": -20.39720516418192,\n        \"max\": 60.0,\n        \"num_unique_values\": 8,\n        \"samples\": [\n          -6.107276416431121,\n          -6.146142547730317,\n          60.0\n        ],\n        \"semantic_type\": \"\",\n        \"description\": \"\"\n      }\n    },\n    {\n      \"column\": 4,\n      \"properties\": {\n        \"dtype\": \"number\",\n        \"std\": 22.63703987104766,\n        \"min\": -12.939674291623255,\n        \"max\": 60.0,\n        \"num_unique_values\": 8,\n        \"samples\": [\n          -2.965088347206669,\n          -1.4517119763634478,\n          60.0\n        ],\n        \"semantic_type\": \"\",\n        \"description\": \"\"\n      }\n    },\n    {\n      \"column\": 5,\n      \"properties\": {\n        \"dtype\": \"number\",\n        \"std\": 27.23281682056855,\n        \"min\": -26.324816629266127,\n        \"max\": 60.0,\n        \"num_unique_values\": 8,\n        \"samples\": [\n          -7.997694513798028,\n          -11.222941434729345,\n          60.0\n        ],\n        \"semantic_type\": \"\",\n        \"description\": \"\"\n      }\n    },\n    {\n      \"column\": 6,\n      \"properties\": {\n        \"dtype\": \"number\",\n        \"std\": 25.417544642300683,\n        \"min\": -21.548308676282275,\n        \"max\": 60.0,\n        \"num_unique_values\": 8,\n        \"samples\": [\n          -8.725442342370805,\n          -9.507880188091784,\n          60.0\n        ],\n        \"semantic_type\": \"\",\n        \"description\": \"\"\n      }\n    },\n    {\n      \"column\": 7,\n      \"properties\": {\n        \"dtype\": \"number\",\n        \"std\": 28.335586802453115,\n        \"min\": -27.39003459701573,\n        \"max\": 60.0,\n        \"num_unique_values\": 8,\n        \"samples\": [\n          -3.060532704640299,\n          -5.578857587656836,\n          60.0\n        ],\n        \"semantic_type\": \"\",\n        \"description\": \"\"\n      }\n    },\n    {\n      \"column\": 8,\n      \"properties\": {\n        \"dtype\": \"number\",\n        \"std\": 26.909252225405798,\n        \"min\": -26.23730062757951,\n        \"max\": 60.0,\n        \"num_unique_values\": 8,\n        \"samples\": [\n          0.9126373746859175,\n          2.247678931416793,\n          60.0\n        ],\n        \"semantic_type\": \"\",\n        \"description\": \"\"\n      }\n    },\n    {\n      \"column\": 9,\n      \"properties\": {\n        \"dtype\": \"number\",\n        \"std\": 21.570683744327138,\n        \"min\": -7.650646457874509,\n        \"max\": 60.0,\n        \"num_unique_values\": 8,\n        \"samples\": [\n          3.524538733484296,\n          -0.14552290147285007,\n          60.0\n        ],\n        \"semantic_type\": \"\",\n        \"description\": \"\"\n      }\n    }\n  ]\n}"
            }
          },
          "metadata": {},
          "execution_count": 2
        }
      ]
    },
    {
      "cell_type": "code",
      "source": [
        "df.shape"
      ],
      "metadata": {
        "colab": {
          "base_uri": "https://localhost:8080/"
        },
        "id": "D-9Ue-qMhBVu",
        "outputId": "6f416068-4300-49ab-f9a7-dc1b292d1f90"
      },
      "execution_count": 3,
      "outputs": [
        {
          "output_type": "execute_result",
          "data": {
            "text/plain": [
              "(60, 10)"
            ]
          },
          "metadata": {},
          "execution_count": 3
        }
      ]
    },
    {
      "cell_type": "code",
      "source": [
        "from sklearn.decomposition import PCA"
      ],
      "metadata": {
        "id": "rnbG9iD2hkD4"
      },
      "execution_count": 4,
      "outputs": []
    },
    {
      "cell_type": "markdown",
      "source": [
        "тут мы вызвали обучили модель fit  и уже сделали новый датафрейм и поулчили новый фрейм\n",
        "pca_data = pca.transform(df) который уже описан с помощью не 10 а 2 главн компонент"
      ],
      "metadata": {
        "id": "WCg5pMr1ieYC"
      }
    },
    {
      "cell_type": "code",
      "source": [
        "pca = PCA(n_components = 2, svd_solver = 'full') # по умолчанию берет 10 компонент, если не указать количество\n",
        "pca.fit(df)   # скармливаем любую таблицу - обучаем метод pca\n",
        "pca_data = pca.transform(df)"
      ],
      "metadata": {
        "id": "Wb3QEBmohpFJ"
      },
      "execution_count": 30,
      "outputs": []
    },
    {
      "cell_type": "markdown",
      "source": [],
      "metadata": {
        "id": "c40sAzXirJoA"
      }
    },
    {
      "cell_type": "markdown",
      "source": [],
      "metadata": {
        "id": "2STznN9frJj0"
      }
    },
    {
      "cell_type": "code",
      "source": [
        "pca.explained_variance_ratio_"
      ],
      "metadata": {
        "colab": {
          "base_uri": "https://localhost:8080/"
        },
        "id": "QV0JLnulqzjb",
        "outputId": "50487baa-5ac8-48ea-ecdb-a619f817cc74"
      },
      "execution_count": 31,
      "outputs": [
        {
          "output_type": "execute_result",
          "data": {
            "text/plain": [
              "array([0.49224676, 0.28867288])"
            ]
          },
          "metadata": {},
          "execution_count": 31
        }
      ]
    },
    {
      "cell_type": "code",
      "source": [
        "explained_variance_ratio = np.cumsum(pca.explained_variance_ratio_)\n",
        "explained_variance_ratio"
      ],
      "metadata": {
        "colab": {
          "base_uri": "https://localhost:8080/"
        },
        "id": "2p4de4RIq8_K",
        "outputId": "162c84d4-103b-43e2-a0d7-b99cff456c0b"
      },
      "execution_count": 32,
      "outputs": [
        {
          "output_type": "execute_result",
          "data": {
            "text/plain": [
              "array([0.49224676, 0.78091964])"
            ]
          },
          "metadata": {},
          "execution_count": 32
        }
      ]
    },
    {
      "cell_type": "code",
      "source": [
        "import matplotlib.pyplot as plt\n",
        "%matplotlib inline\n",
        "\n",
        "plt.plot(np.arange(1, 2), explained_variance_ratio, ls = '-') # результат подтверждает как выше что нам  хватит три ГК\n"
      ],
      "metadata": {
        "colab": {
          "base_uri": "https://localhost:8080/",
          "height": 739
        },
        "collapsed": true,
        "id": "aIDttOiDq35Z",
        "outputId": "d0b3becf-6919-4043-ab5a-42a9233b4b93"
      },
      "execution_count": 56,
      "outputs": [
        {
          "output_type": "error",
          "ename": "ValueError",
          "evalue": "x and y must have same first dimension, but have shapes (1,) and (2,)",
          "traceback": [
            "\u001b[0;31m---------------------------------------------------------------------------\u001b[0m",
            "\u001b[0;31mValueError\u001b[0m                                Traceback (most recent call last)",
            "\u001b[0;32m<ipython-input-56-5636fde05fcb>\u001b[0m in \u001b[0;36m<cell line: 4>\u001b[0;34m()\u001b[0m\n\u001b[1;32m      2\u001b[0m \u001b[0mget_ipython\u001b[0m\u001b[0;34m(\u001b[0m\u001b[0;34m)\u001b[0m\u001b[0;34m.\u001b[0m\u001b[0mrun_line_magic\u001b[0m\u001b[0;34m(\u001b[0m\u001b[0;34m'matplotlib'\u001b[0m\u001b[0;34m,\u001b[0m \u001b[0;34m'inline'\u001b[0m\u001b[0;34m)\u001b[0m\u001b[0;34m\u001b[0m\u001b[0;34m\u001b[0m\u001b[0m\n\u001b[1;32m      3\u001b[0m \u001b[0;34m\u001b[0m\u001b[0m\n\u001b[0;32m----> 4\u001b[0;31m \u001b[0mplt\u001b[0m\u001b[0;34m.\u001b[0m\u001b[0mplot\u001b[0m\u001b[0;34m(\u001b[0m\u001b[0mnp\u001b[0m\u001b[0;34m.\u001b[0m\u001b[0marange\u001b[0m\u001b[0;34m(\u001b[0m\u001b[0;36m1\u001b[0m\u001b[0;34m,\u001b[0m \u001b[0;36m2\u001b[0m\u001b[0;34m)\u001b[0m\u001b[0;34m,\u001b[0m \u001b[0mexplained_variance_ratio\u001b[0m\u001b[0;34m,\u001b[0m \u001b[0mls\u001b[0m \u001b[0;34m=\u001b[0m \u001b[0;34m'-'\u001b[0m\u001b[0;34m)\u001b[0m \u001b[0;31m# результат подтверждает как выше что нам  хватит три ГК\u001b[0m\u001b[0;34m\u001b[0m\u001b[0;34m\u001b[0m\u001b[0m\n\u001b[0m",
            "\u001b[0;32m/usr/local/lib/python3.10/dist-packages/matplotlib/pyplot.py\u001b[0m in \u001b[0;36mplot\u001b[0;34m(scalex, scaley, data, *args, **kwargs)\u001b[0m\n\u001b[1;32m   3576\u001b[0m     \u001b[0;34m**\u001b[0m\u001b[0mkwargs\u001b[0m\u001b[0;34m,\u001b[0m\u001b[0;34m\u001b[0m\u001b[0;34m\u001b[0m\u001b[0m\n\u001b[1;32m   3577\u001b[0m ) -> list[Line2D]:\n\u001b[0;32m-> 3578\u001b[0;31m     return gca().plot(\n\u001b[0m\u001b[1;32m   3579\u001b[0m         \u001b[0;34m*\u001b[0m\u001b[0margs\u001b[0m\u001b[0;34m,\u001b[0m\u001b[0;34m\u001b[0m\u001b[0;34m\u001b[0m\u001b[0m\n\u001b[1;32m   3580\u001b[0m         \u001b[0mscalex\u001b[0m\u001b[0;34m=\u001b[0m\u001b[0mscalex\u001b[0m\u001b[0;34m,\u001b[0m\u001b[0;34m\u001b[0m\u001b[0;34m\u001b[0m\u001b[0m\n",
            "\u001b[0;32m/usr/local/lib/python3.10/dist-packages/matplotlib/axes/_axes.py\u001b[0m in \u001b[0;36mplot\u001b[0;34m(self, scalex, scaley, data, *args, **kwargs)\u001b[0m\n\u001b[1;32m   1719\u001b[0m         \"\"\"\n\u001b[1;32m   1720\u001b[0m         \u001b[0mkwargs\u001b[0m \u001b[0;34m=\u001b[0m \u001b[0mcbook\u001b[0m\u001b[0;34m.\u001b[0m\u001b[0mnormalize_kwargs\u001b[0m\u001b[0;34m(\u001b[0m\u001b[0mkwargs\u001b[0m\u001b[0;34m,\u001b[0m \u001b[0mmlines\u001b[0m\u001b[0;34m.\u001b[0m\u001b[0mLine2D\u001b[0m\u001b[0;34m)\u001b[0m\u001b[0;34m\u001b[0m\u001b[0;34m\u001b[0m\u001b[0m\n\u001b[0;32m-> 1721\u001b[0;31m         \u001b[0mlines\u001b[0m \u001b[0;34m=\u001b[0m \u001b[0;34m[\u001b[0m\u001b[0;34m*\u001b[0m\u001b[0mself\u001b[0m\u001b[0;34m.\u001b[0m\u001b[0m_get_lines\u001b[0m\u001b[0;34m(\u001b[0m\u001b[0mself\u001b[0m\u001b[0;34m,\u001b[0m \u001b[0;34m*\u001b[0m\u001b[0margs\u001b[0m\u001b[0;34m,\u001b[0m \u001b[0mdata\u001b[0m\u001b[0;34m=\u001b[0m\u001b[0mdata\u001b[0m\u001b[0;34m,\u001b[0m \u001b[0;34m**\u001b[0m\u001b[0mkwargs\u001b[0m\u001b[0;34m)\u001b[0m\u001b[0;34m]\u001b[0m\u001b[0;34m\u001b[0m\u001b[0;34m\u001b[0m\u001b[0m\n\u001b[0m\u001b[1;32m   1722\u001b[0m         \u001b[0;32mfor\u001b[0m \u001b[0mline\u001b[0m \u001b[0;32min\u001b[0m \u001b[0mlines\u001b[0m\u001b[0;34m:\u001b[0m\u001b[0;34m\u001b[0m\u001b[0;34m\u001b[0m\u001b[0m\n\u001b[1;32m   1723\u001b[0m             \u001b[0mself\u001b[0m\u001b[0;34m.\u001b[0m\u001b[0madd_line\u001b[0m\u001b[0;34m(\u001b[0m\u001b[0mline\u001b[0m\u001b[0;34m)\u001b[0m\u001b[0;34m\u001b[0m\u001b[0;34m\u001b[0m\u001b[0m\n",
            "\u001b[0;32m/usr/local/lib/python3.10/dist-packages/matplotlib/axes/_base.py\u001b[0m in \u001b[0;36m__call__\u001b[0;34m(self, axes, data, *args, **kwargs)\u001b[0m\n\u001b[1;32m    301\u001b[0m                 \u001b[0mthis\u001b[0m \u001b[0;34m+=\u001b[0m \u001b[0margs\u001b[0m\u001b[0;34m[\u001b[0m\u001b[0;36m0\u001b[0m\u001b[0;34m]\u001b[0m\u001b[0;34m,\u001b[0m\u001b[0;34m\u001b[0m\u001b[0;34m\u001b[0m\u001b[0m\n\u001b[1;32m    302\u001b[0m                 \u001b[0margs\u001b[0m \u001b[0;34m=\u001b[0m \u001b[0margs\u001b[0m\u001b[0;34m[\u001b[0m\u001b[0;36m1\u001b[0m\u001b[0;34m:\u001b[0m\u001b[0;34m]\u001b[0m\u001b[0;34m\u001b[0m\u001b[0;34m\u001b[0m\u001b[0m\n\u001b[0;32m--> 303\u001b[0;31m             yield from self._plot_args(\n\u001b[0m\u001b[1;32m    304\u001b[0m                 axes, this, kwargs, ambiguous_fmt_datakey=ambiguous_fmt_datakey)\n\u001b[1;32m    305\u001b[0m \u001b[0;34m\u001b[0m\u001b[0m\n",
            "\u001b[0;32m/usr/local/lib/python3.10/dist-packages/matplotlib/axes/_base.py\u001b[0m in \u001b[0;36m_plot_args\u001b[0;34m(self, axes, tup, kwargs, return_kwargs, ambiguous_fmt_datakey)\u001b[0m\n\u001b[1;32m    497\u001b[0m \u001b[0;34m\u001b[0m\u001b[0m\n\u001b[1;32m    498\u001b[0m         \u001b[0;32mif\u001b[0m \u001b[0mx\u001b[0m\u001b[0;34m.\u001b[0m\u001b[0mshape\u001b[0m\u001b[0;34m[\u001b[0m\u001b[0;36m0\u001b[0m\u001b[0;34m]\u001b[0m \u001b[0;34m!=\u001b[0m \u001b[0my\u001b[0m\u001b[0;34m.\u001b[0m\u001b[0mshape\u001b[0m\u001b[0;34m[\u001b[0m\u001b[0;36m0\u001b[0m\u001b[0;34m]\u001b[0m\u001b[0;34m:\u001b[0m\u001b[0;34m\u001b[0m\u001b[0;34m\u001b[0m\u001b[0m\n\u001b[0;32m--> 499\u001b[0;31m             raise ValueError(f\"x and y must have same first dimension, but \"\n\u001b[0m\u001b[1;32m    500\u001b[0m                              f\"have shapes {x.shape} and {y.shape}\")\n\u001b[1;32m    501\u001b[0m         \u001b[0;32mif\u001b[0m \u001b[0mx\u001b[0m\u001b[0;34m.\u001b[0m\u001b[0mndim\u001b[0m \u001b[0;34m>\u001b[0m \u001b[0;36m2\u001b[0m \u001b[0;32mor\u001b[0m \u001b[0my\u001b[0m\u001b[0;34m.\u001b[0m\u001b[0mndim\u001b[0m \u001b[0;34m>\u001b[0m \u001b[0;36m2\u001b[0m\u001b[0;34m:\u001b[0m\u001b[0;34m\u001b[0m\u001b[0;34m\u001b[0m\u001b[0m\n",
            "\u001b[0;31mValueError\u001b[0m: x and y must have same first dimension, but have shapes (1,) and (2,)"
          ]
        },
        {
          "output_type": "display_data",
          "data": {
            "text/plain": [
              "<Figure size 640x480 with 1 Axes>"
            ],
            "image/png": "[encoded data removed]"
          },
          "metadata": {}
        }
      ]
    },
    {
      "cell_type": "code",
      "source": [
        "plt.plot(np.arange(1, len(explained_variance_ratio) + 1), explained_variance_ratio, ls='-')\n",
        "plt.xlabel('Number of Components')\n",
        "plt.ylabel('Cumulative Explained Variance')\n",
        "plt.title('Cumulative Explained Variance by Principal Components')\n",
        "plt.show()\n"
      ],
      "metadata": {
        "colab": {
          "base_uri": "https://localhost:8080/",
          "height": 472
        },
        "id": "pHuF3ZvDuiIC",
        "outputId": "876afcf3-d76f-48fb-bdfd-b33ca75d70f9"
      },
      "execution_count": 57,
      "outputs": [
        {
          "output_type": "display_data",
          "data": {
            "text/plain": [
              "<Figure size 640x480 with 1 Axes>"
            ],
            "image/png": "[encoded data removed]"
          },
          "metadata": {}
        }
      ]
    },
    {
      "cell_type": "code",
      "source": [
        "# Параметры графика\n",
        "plt.figure(figsize=(6, 4))\n",
        "plt.bar([1, 2], pca.explained_variance_ratio_, tick_label=['PC1', 'PC2'])\n",
        "plt.xlabel('Principal Components')\n",
        "plt.ylabel('Explained Variance Ratio')\n",
        "plt.title('Explained Variance of Each Principal Component')\n",
        "plt.show()\n"
      ],
      "metadata": {
        "colab": {
          "base_uri": "https://localhost:8080/",
          "height": 410
        },
        "id": "hSM9fuyyvBHw",
        "outputId": "bb413a82-afeb-4eec-e4ae-bdcf8c475d20"
      },
      "execution_count": 58,
      "outputs": [
        {
          "output_type": "display_data",
          "data": {
            "text/plain": [
              "<Figure size 600x400 with 1 Axes>"
            ],
            "image/png": "[encoded data removed]"
          },
          "metadata": {}
        }
      ]
    },
    {
      "cell_type": "code",
      "source": [
        "plt.figure(figsize=(8, 6))\n",
        "plt.scatter(pca_data[:, 0], pca_data[:, 1], alpha=0.7, edgecolors='k')\n",
        "plt.xlabel('Principal Component 1')\n",
        "plt.ylabel('Principal Component 2')\n",
        "plt.title('Data in Principal Component Space')\n",
        "plt.grid(True)\n",
        "plt.show()\n"
      ],
      "metadata": {
        "colab": {
          "base_uri": "https://localhost:8080/",
          "height": 564
        },
        "id": "EYKg9SdEvGHB",
        "outputId": "c7e5f946-62aa-474a-a7db-916ed4e314c0"
      },
      "execution_count": 59,
      "outputs": [
        {
          "output_type": "display_data",
          "data": {
            "text/plain": [
              "<Figure size 800x600 with 1 Axes>"
            ],
            "image/png": "[encoded data removed]"
          },
          "metadata": {}
        }
      ]
    },
    {
      "cell_type": "markdown",
      "source": [],
      "metadata": {
        "id": "7POg6zIRqycv"
      }
    },
    {
      "cell_type": "markdown",
      "source": [],
      "metadata": {
        "id": "D7BMy075qyZw"
      }
    },
    {
      "cell_type": "markdown",
      "source": [],
      "metadata": {
        "id": "vEAlLz16qyVX"
      }
    },
    {
      "cell_type": "markdown",
      "source": [
        "Выведем полученные новые координаты объекта с индексом 0."
      ],
      "metadata": {
        "id": "J6Eh2MRgiEf_"
      }
    },
    {
      "cell_type": "code",
      "source": [
        "pca_data[0]     # в итоге мы вместо 10 объектов снизили до 2 наших компонент"
      ],
      "metadata": {
        "colab": {
          "base_uri": "https://localhost:8080/"
        },
        "id": "M7P2F-s6iE2-",
        "outputId": "c5c0bf27-6d59-42bf-ebd7-1469c97a0272"
      },
      "execution_count": 6,
      "outputs": [
        {
          "output_type": "execute_result",
          "data": {
            "text/plain": [
              "array([-19.05792582, -31.91261445])"
            ]
          },
          "metadata": {},
          "execution_count": 6
        }
      ]
    },
    {
      "cell_type": "code",
      "source": [
        "pca.components_.shape"
      ],
      "metadata": {
        "colab": {
          "base_uri": "https://localhost:8080/"
        },
        "id": "04x3L5cdjab7",
        "outputId": "41c2a72b-7485-4431-9746-e905374a29e3"
      },
      "execution_count": 8,
      "outputs": [
        {
          "output_type": "execute_result",
          "data": {
            "text/plain": [
              "(2, 10)"
            ]
          },
          "metadata": {},
          "execution_count": 8
        }
      ]
    },
    {
      "cell_type": "code",
      "source": [
        "pca.components_"
      ],
      "metadata": {
        "colab": {
          "base_uri": "https://localhost:8080/"
        },
        "id": "UAstDQmnjeMD",
        "outputId": "55cfb765-620d-48c2-fe1d-9e86ef447f04"
      },
      "execution_count": 9,
      "outputs": [
        {
          "output_type": "execute_result",
          "data": {
            "text/plain": [
              "array([[ 0.18350193, -0.03302002,  0.43776131, -0.07859612, -0.14966591,\n",
              "         0.46775475,  0.05267998,  0.52494143, -0.49533105, -0.0503834 ],\n",
              "       [-0.0174599 ,  0.31725924,  0.47573442,  0.28194334, -0.0239379 ,\n",
              "         0.0960839 ,  0.16039653,  0.13156141,  0.63942788, -0.36265389]])"
            ]
          },
          "metadata": {},
          "execution_count": 9
        }
      ]
    },
    {
      "cell_type": "markdown",
      "source": [
        "По заданию нас просят вычислить долю объясненной дисперсии при использовании двух ГК. Для этого построим 10 ГК, тк изначально объекты обладали 10 признаками."
      ],
      "metadata": {
        "id": "Zfc3FO39jqmt"
      }
    },
    {
      "cell_type": "code",
      "source": [
        "pca = PCA(n_components = 10, svd_solver = 'full')\n",
        "pca_data = pca.fit_transform(df)"
      ],
      "metadata": {
        "id": "KiYy9UPQjr8b"
      },
      "execution_count": 15,
      "outputs": []
    },
    {
      "cell_type": "code",
      "source": [
        "pca_data[0]"
      ],
      "metadata": {
        "colab": {
          "base_uri": "https://localhost:8080/"
        },
        "id": "UEPReXydoZ53",
        "outputId": "67e9a312-37b2-4730-f6ec-7ccbc14d0c69"
      },
      "execution_count": 16,
      "outputs": [
        {
          "output_type": "execute_result",
          "data": {
            "text/plain": [
              "array([-19.05792582, -31.91261445, -14.19047482,  -1.40846852,\n",
              "         0.65221233,   0.72921321,   2.70383991,   1.45816483,\n",
              "         0.3763512 ,   0.35953474])"
            ]
          },
          "metadata": {},
          "execution_count": 16
        }
      ]
    },
    {
      "cell_type": "markdown",
      "source": [
        "Доля объясненной дисперсии для каждой ГК хранится в поле explained_variance_ratio_, используем сумму с накоплением: np.cumsum."
      ],
      "metadata": {
        "id": "HPSgWogKj8_x"
      }
    },
    {
      "cell_type": "code",
      "source": [
        "import numpy as np"
      ],
      "metadata": {
        "id": "02RzZNq8j9sc"
      },
      "execution_count": 17,
      "outputs": []
    },
    {
      "cell_type": "code",
      "source": [
        "pca.explained_variance_  # получим массив чисел описывающих каждой из 10 гла компоннет сначала 1 и так далее"
      ],
      "metadata": {
        "colab": {
          "base_uri": "https://localhost:8080/"
        },
        "id": "wIij0DwGkBnF",
        "outputId": "0d4ee220-a4c2-4aa6-911d-9e6a0f125ef4"
      },
      "execution_count": 18,
      "outputs": [
        {
          "output_type": "execute_result",
          "data": {
            "text/plain": [
              "array([799.47894399, 468.8459252 , 341.34346024,   3.3539812 ,\n",
              "         2.84731117,   2.35752266,   1.93235227,   1.78631014,\n",
              "         1.37394802,   0.82287084])"
            ]
          },
          "metadata": {},
          "execution_count": 18
        }
      ]
    },
    {
      "cell_type": "markdown",
      "source": [
        "находим доли предыдухи чисел"
      ],
      "metadata": {
        "id": "BBL4QWCYkgbz"
      }
    },
    {
      "cell_type": "markdown",
      "source": [
        "результат показывает что первые 3 имеют значительн долю, а вторые пять нет, то есть можно модель описать только первыми тремя числам, то е методом ГК можно использовать эти 3 ГК\n",
        "0.49224676, 0.28867288, 0.2101684"
      ],
      "metadata": {
        "id": "GcHQpAX_lMbg"
      }
    },
    {
      "cell_type": "markdown",
      "source": [
        "То есть в ответ ена вопрос к заданию : Введите долю объясненной дисперсии при использовании первых двух главных компонент.\n",
        "нам надо сложить первые два числа"
      ],
      "metadata": {
        "id": "XobK-4j6l6Wj"
      }
    },
    {
      "cell_type": "code",
      "source": [
        "pca.explained_variance_ratio_ # показывает долю дисперсии в процентах , то есть первая К показывает 48 % , вторая 28, и так далее\n",
        "                               # и в итоге мы видим что Три ГК вносят ощутимы вклад , как и предсказывалось. То есть все данные можно опсать треся столбцами"
      ],
      "metadata": {
        "colab": {
          "base_uri": "https://localhost:8080/"
        },
        "id": "rObJ6knRkjrw",
        "outputId": "1d3507ed-60c1-437e-be85-0424fb8c8eb8"
      },
      "execution_count": 26,
      "outputs": [
        {
          "output_type": "execute_result",
          "data": {
            "text/plain": [
              "array([0.49224676, 0.28867288, 0.2101684 , 0.00206508, 0.00175312,\n",
              "       0.00145155, 0.00118977, 0.00109985, 0.00084595, 0.00050665])"
            ]
          },
          "metadata": {},
          "execution_count": 26
        }
      ]
    },
    {
      "cell_type": "markdown",
      "source": [
        "чтоюы не считать вручну. сделаем такой метод который считает:\n",
        "array([0.49224676 (перв элемен) 0.78091964 (сумма первых двух)  0.99108804 (ссумма первых трех ) и так далее 0.99315312, 0.99490623,\n",
        "       0.99635778, 0.99754755, 0.9986474 , 0.99949335, 1 (сумма всех 10 равна 1 )         ])"
      ],
      "metadata": {
        "id": "NeKXoQohmdsQ"
      }
    },
    {
      "cell_type": "code",
      "source": [
        "explained_variance_ratio = np.cumsum(pca.explained_variance_ratio_)\n",
        "explained_variance_ratio"
      ],
      "metadata": {
        "colab": {
          "base_uri": "https://localhost:8080/"
        },
        "collapsed": true,
        "id": "w5h1rekBmpHe",
        "outputId": "6f430a0a-f25b-40fe-d915-f653a1b0befb"
      },
      "execution_count": 25,
      "outputs": [
        {
          "output_type": "execute_result",
          "data": {
            "text/plain": [
              "array([0.49224676, 0.78091964, 0.99108804, 0.99315312, 0.99490623,\n",
              "       0.99635778, 0.99754755, 0.9986474 , 0.99949335, 1.        ])"
            ]
          },
          "metadata": {},
          "execution_count": 25
        }
      ]
    },
    {
      "cell_type": "code",
      "source": [
        "# Инициализация массива explained_variance_ratio = np.array([0.231, 0.345, 0.452])\n",
        "\n",
        "# Округление чисел до тысячных\n",
        "rounded_values = np.round(explained_variance_ratio, decimals=3)\n",
        "\n",
        "# Печать результата\n",
        "print(rounded_values)"
      ],
      "metadata": {
        "colab": {
          "base_uri": "https://localhost:8080/"
        },
        "id": "IeE_0IwwosY-",
        "outputId": "6a193ade-f28f-4f2e-b268-e6c06c64ea79"
      },
      "execution_count": 22,
      "outputs": [
        {
          "output_type": "stream",
          "name": "stdout",
          "text": [
            "[0.492 0.781 0.991 0.993 0.995 0.996 0.998 0.999 0.999 1.   ]\n"
          ]
        }
      ]
    },
    {
      "cell_type": "code",
      "source": [
        "import matplotlib.pyplot as plt\n",
        "%matplotlib inline"
      ],
      "metadata": {
        "id": "q7DJ4w45pY22"
      },
      "execution_count": 23,
      "outputs": []
    },
    {
      "cell_type": "code",
      "source": [
        "plt.plot(np.arange(1,11), explained_variance_ratio, ls = '-') # результат подтверждает как выше что нам  хватит три ГК"
      ],
      "metadata": {
        "colab": {
          "base_uri": "https://localhost:8080/",
          "height": 447
        },
        "id": "QzHm5EATpdoC",
        "outputId": "8873623b-3f50-4669-b286-98cb6f8cd17b"
      },
      "execution_count": 24,
      "outputs": [
        {
          "output_type": "execute_result",
          "data": {
            "text/plain": [
              "[<matplotlib.lines.Line2D at 0x7ef86e0988e0>]"
            ]
          },
          "metadata": {},
          "execution_count": 24
        },
        {
          "output_type": "display_data",
          "data": {
            "text/plain": [
              "<Figure size 640x480 with 1 Axes>"
            ],
            "image/png": "[encoded data removed]"
          },
          "metadata": {}
        }
      ]
    },
    {
      "cell_type": "markdown",
      "source": [
        "Далее\n",
        "Какое минимальное количество главных компонент необходимо использовать, чтобы доля объясненной дисперсии превышала 0.85\n",
        "Определим количество ГК, необходимых для превышения заданного порога доли объясненной дисперсии:"
      ],
      "metadata": {
        "id": "vOBJ3FZYqSef"
      }
    },
    {
      "cell_type": "code",
      "source": [
        "treshold = 0.85\n",
        "dim = 0\n",
        "for value in explained_variance_ratio:\n",
        "  if value > treshold:\n",
        "    print('Минимальное количество ГК для заданного порога: ', dim + 1)\n",
        "    break\n",
        "  dim += 1"
      ],
      "metadata": {
        "id": "JCGvyYVUqUlo"
      },
      "execution_count": 54,
      "outputs": []
    },
    {
      "cell_type": "markdown",
      "source": [
        "Далее задание\n",
        "Какое количество групп объектов можно выделить, если использовать только первые две главных компоненты?"
      ],
      "metadata": {
        "id": "qzKsqLHUq3zr"
      }
    },
    {
      "cell_type": "markdown",
      "source": [
        "Вернемся к случаю только первых двух ГК и построим соответствующий график.\n",
        "т к 2 ГК то одну мы деаем по оси х втору по оси y\n",
        "по оси х берет первый весь преобразованный столбец 60 точек  pca_data[:, 0]\n",
        "по оси y ,берет второй столбец 60 точек (в файле 60 строк) pca_data[:, 1]\n",
        " 1 столюец 1ГК,\n",
        " 2 столюец это 2 ГК"
      ],
      "metadata": {
        "id": "Nmo_xNbSq6gP"
      }
    },
    {
      "cell_type": "code",
      "source": [
        "plt.scatter(pca_data[:, 0], pca_data[:, 1])"
      ],
      "metadata": {
        "colab": {
          "base_uri": "https://localhost:8080/",
          "height": 447
        },
        "id": "994mhCElq8ho",
        "outputId": "ca24660b-744a-4008-f90f-db0b17efcc9d"
      },
      "execution_count": 55,
      "outputs": [
        {
          "output_type": "execute_result",
          "data": {
            "text/plain": [
              "<matplotlib.collections.PathCollection at 0x7ef867564ac0>"
            ]
          },
          "metadata": {},
          "execution_count": 55
        },
        {
          "output_type": "display_data",
          "data": {
            "text/plain": [
              "<Figure size 640x480 with 1 Axes>"
            ],
            "image/png": "[encoded data removed]"
          },
          "metadata": {}
        }
      ]
    },
    {
      "cell_type": "markdown",
      "source": [
        "Разделение получиллось на 4 объекта - вводим в ответ 4 , но по нему видно что 4 не влияет ни на что, что говорит о резултататх выше что у насхватает 3 ГК"
      ],
      "metadata": {
        "id": "24hOpzVQsimF"
      }
    },
    {
      "cell_type": "markdown",
      "source": [],
      "metadata": {
        "id": "CAn0YxtmJW2H"
      }
    }
  ]
}